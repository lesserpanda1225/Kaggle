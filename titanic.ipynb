{
 "cells": [
  {
   "cell_type": "code",
   "execution_count": 1,
   "id": "e3ac7b38",
   "metadata": {
    "_cell_guid": "b1076dfc-b9ad-4769-8c92-a6c4dae69d19",
    "_uuid": "8f2839f25d086af736a60e9eeb907d3b93b6e0e5",
    "execution": {
     "iopub.execute_input": "2024-12-09T04:45:08.040292Z",
     "iopub.status.busy": "2024-12-09T04:45:08.039418Z",
     "iopub.status.idle": "2024-12-09T04:45:08.906812Z",
     "shell.execute_reply": "2024-12-09T04:45:08.905632Z"
    },
    "papermill": {
     "duration": 0.87683,
     "end_time": "2024-12-09T04:45:08.909362",
     "exception": false,
     "start_time": "2024-12-09T04:45:08.032532",
     "status": "completed"
    },
    "tags": []
   },
   "outputs": [
    {
     "name": "stdout",
     "output_type": "stream",
     "text": [
      "/kaggle/input/titanic/train.csv\n",
      "/kaggle/input/titanic/test.csv\n",
      "/kaggle/input/titanic/gender_submission.csv\n"
     ]
    }
   ],
   "source": [
    "# This Python 3 environment comes with many helpful analytics libraries installed\n",
    "# It is defined by the kaggle/python Docker image: https://github.com/kaggle/docker-python\n",
    "# For example, here's several helpful packages to load\n",
    "\n",
    "import numpy as np # linear algebra\n",
    "import pandas as pd # data processing, CSV file I/O (e.g. pd.read_csv)\n",
    "\n",
    "# Input data files are available in the read-only \"../input/\" directory\n",
    "# For example, running this (by clicking run or pressing Shift+Enter) will list all files under the input directory\n",
    "\n",
    "import os\n",
    "for dirname, _, filenames in os.walk('/kaggle/input'):\n",
    "    for filename in filenames:\n",
    "        print(os.path.join(dirname, filename))\n",
    "\n",
    "# You can write up to 20GB to the current directory (/kaggle/working/) that gets preserved as output when you create a version using \"Save & Run All\" \n",
    "# You can also write temporary files to /kaggle/temp/, but they won't be saved outside of the current session"
   ]
  },
  {
   "cell_type": "code",
   "execution_count": 2,
   "id": "e93e65bb",
   "metadata": {
    "execution": {
     "iopub.execute_input": "2024-12-09T04:45:08.921417Z",
     "iopub.status.busy": "2024-12-09T04:45:08.920071Z",
     "iopub.status.idle": "2024-12-09T04:45:10.912974Z",
     "shell.execute_reply": "2024-12-09T04:45:10.912129Z"
    },
    "papermill": {
     "duration": 2.001121,
     "end_time": "2024-12-09T04:45:10.915378",
     "exception": false,
     "start_time": "2024-12-09T04:45:08.914257",
     "status": "completed"
    },
    "tags": []
   },
   "outputs": [],
   "source": [
    "from sklearn.tree import DecisionTreeClassifier\n",
    "from sklearn.ensemble import RandomForestClassifier, GradientBoostingClassifier\n",
    "from xgboost import XGBClassifier\n",
    "from sklearn.model_selection import KFold, cross_val_score"
   ]
  },
  {
   "cell_type": "markdown",
   "id": "d14bbb16",
   "metadata": {
    "papermill": {
     "duration": 0.00417,
     "end_time": "2024-12-09T04:45:10.924134",
     "exception": false,
     "start_time": "2024-12-09T04:45:10.919964",
     "status": "completed"
    },
    "tags": []
   },
   "source": [
    "Prepare Data"
   ]
  },
  {
   "cell_type": "code",
   "execution_count": 3,
   "id": "67263264",
   "metadata": {
    "execution": {
     "iopub.execute_input": "2024-12-09T04:45:10.935751Z",
     "iopub.status.busy": "2024-12-09T04:45:10.935189Z",
     "iopub.status.idle": "2024-12-09T04:45:10.972799Z",
     "shell.execute_reply": "2024-12-09T04:45:10.971691Z"
    },
    "papermill": {
     "duration": 0.045623,
     "end_time": "2024-12-09T04:45:10.975302",
     "exception": false,
     "start_time": "2024-12-09T04:45:10.929679",
     "status": "completed"
    },
    "tags": []
   },
   "outputs": [],
   "source": [
    "df_train = pd.read_csv(\"/kaggle/input/titanic/train.csv\")\n",
    "X_test = pd.read_csv(\"/kaggle/input/titanic/test.csv\")\n",
    "Y_test = pd.read_csv(\"/kaggle/input/titanic/gender_submission.csv\")"
   ]
  },
  {
   "cell_type": "code",
   "execution_count": 4,
   "id": "254be80f",
   "metadata": {
    "execution": {
     "iopub.execute_input": "2024-12-09T04:45:10.986286Z",
     "iopub.status.busy": "2024-12-09T04:45:10.985854Z",
     "iopub.status.idle": "2024-12-09T04:45:11.013843Z",
     "shell.execute_reply": "2024-12-09T04:45:11.012202Z"
    },
    "papermill": {
     "duration": 0.036474,
     "end_time": "2024-12-09T04:45:11.016519",
     "exception": false,
     "start_time": "2024-12-09T04:45:10.980045",
     "status": "completed"
    },
    "tags": []
   },
   "outputs": [
    {
     "data": {
      "text/html": [
       "<div>\n",
       "<style scoped>\n",
       "    .dataframe tbody tr th:only-of-type {\n",
       "        vertical-align: middle;\n",
       "    }\n",
       "\n",
       "    .dataframe tbody tr th {\n",
       "        vertical-align: top;\n",
       "    }\n",
       "\n",
       "    .dataframe thead th {\n",
       "        text-align: right;\n",
       "    }\n",
       "</style>\n",
       "<table border=\"1\" class=\"dataframe\">\n",
       "  <thead>\n",
       "    <tr style=\"text-align: right;\">\n",
       "      <th></th>\n",
       "      <th>PassengerId</th>\n",
       "      <th>Survived</th>\n",
       "      <th>Pclass</th>\n",
       "      <th>Name</th>\n",
       "      <th>Sex</th>\n",
       "      <th>Age</th>\n",
       "      <th>SibSp</th>\n",
       "      <th>Parch</th>\n",
       "      <th>Ticket</th>\n",
       "      <th>Fare</th>\n",
       "      <th>Cabin</th>\n",
       "      <th>Embarked</th>\n",
       "    </tr>\n",
       "  </thead>\n",
       "  <tbody>\n",
       "    <tr>\n",
       "      <th>0</th>\n",
       "      <td>1</td>\n",
       "      <td>0</td>\n",
       "      <td>3</td>\n",
       "      <td>Braund, Mr. Owen Harris</td>\n",
       "      <td>male</td>\n",
       "      <td>22.0</td>\n",
       "      <td>1</td>\n",
       "      <td>0</td>\n",
       "      <td>A/5 21171</td>\n",
       "      <td>7.2500</td>\n",
       "      <td>NaN</td>\n",
       "      <td>S</td>\n",
       "    </tr>\n",
       "    <tr>\n",
       "      <th>1</th>\n",
       "      <td>2</td>\n",
       "      <td>1</td>\n",
       "      <td>1</td>\n",
       "      <td>Cumings, Mrs. John Bradley (Florence Briggs Th...</td>\n",
       "      <td>female</td>\n",
       "      <td>38.0</td>\n",
       "      <td>1</td>\n",
       "      <td>0</td>\n",
       "      <td>PC 17599</td>\n",
       "      <td>71.2833</td>\n",
       "      <td>C85</td>\n",
       "      <td>C</td>\n",
       "    </tr>\n",
       "    <tr>\n",
       "      <th>2</th>\n",
       "      <td>3</td>\n",
       "      <td>1</td>\n",
       "      <td>3</td>\n",
       "      <td>Heikkinen, Miss. Laina</td>\n",
       "      <td>female</td>\n",
       "      <td>26.0</td>\n",
       "      <td>0</td>\n",
       "      <td>0</td>\n",
       "      <td>STON/O2. 3101282</td>\n",
       "      <td>7.9250</td>\n",
       "      <td>NaN</td>\n",
       "      <td>S</td>\n",
       "    </tr>\n",
       "    <tr>\n",
       "      <th>3</th>\n",
       "      <td>4</td>\n",
       "      <td>1</td>\n",
       "      <td>1</td>\n",
       "      <td>Futrelle, Mrs. Jacques Heath (Lily May Peel)</td>\n",
       "      <td>female</td>\n",
       "      <td>35.0</td>\n",
       "      <td>1</td>\n",
       "      <td>0</td>\n",
       "      <td>113803</td>\n",
       "      <td>53.1000</td>\n",
       "      <td>C123</td>\n",
       "      <td>S</td>\n",
       "    </tr>\n",
       "    <tr>\n",
       "      <th>4</th>\n",
       "      <td>5</td>\n",
       "      <td>0</td>\n",
       "      <td>3</td>\n",
       "      <td>Allen, Mr. William Henry</td>\n",
       "      <td>male</td>\n",
       "      <td>35.0</td>\n",
       "      <td>0</td>\n",
       "      <td>0</td>\n",
       "      <td>373450</td>\n",
       "      <td>8.0500</td>\n",
       "      <td>NaN</td>\n",
       "      <td>S</td>\n",
       "    </tr>\n",
       "  </tbody>\n",
       "</table>\n",
       "</div>"
      ],
      "text/plain": [
       "   PassengerId  Survived  Pclass  \\\n",
       "0            1         0       3   \n",
       "1            2         1       1   \n",
       "2            3         1       3   \n",
       "3            4         1       1   \n",
       "4            5         0       3   \n",
       "\n",
       "                                                Name     Sex   Age  SibSp  \\\n",
       "0                            Braund, Mr. Owen Harris    male  22.0      1   \n",
       "1  Cumings, Mrs. John Bradley (Florence Briggs Th...  female  38.0      1   \n",
       "2                             Heikkinen, Miss. Laina  female  26.0      0   \n",
       "3       Futrelle, Mrs. Jacques Heath (Lily May Peel)  female  35.0      1   \n",
       "4                           Allen, Mr. William Henry    male  35.0      0   \n",
       "\n",
       "   Parch            Ticket     Fare Cabin Embarked  \n",
       "0      0         A/5 21171   7.2500   NaN        S  \n",
       "1      0          PC 17599  71.2833   C85        C  \n",
       "2      0  STON/O2. 3101282   7.9250   NaN        S  \n",
       "3      0            113803  53.1000  C123        S  \n",
       "4      0            373450   8.0500   NaN        S  "
      ]
     },
     "execution_count": 4,
     "metadata": {},
     "output_type": "execute_result"
    }
   ],
   "source": [
    "df_train.head()"
   ]
  },
  {
   "cell_type": "code",
   "execution_count": 5,
   "id": "d6946fcf",
   "metadata": {
    "execution": {
     "iopub.execute_input": "2024-12-09T04:45:11.028270Z",
     "iopub.status.busy": "2024-12-09T04:45:11.027843Z",
     "iopub.status.idle": "2024-12-09T04:45:11.042548Z",
     "shell.execute_reply": "2024-12-09T04:45:11.041348Z"
    },
    "papermill": {
     "duration": 0.023119,
     "end_time": "2024-12-09T04:45:11.044803",
     "exception": false,
     "start_time": "2024-12-09T04:45:11.021684",
     "status": "completed"
    },
    "tags": []
   },
   "outputs": [
    {
     "data": {
      "text/html": [
       "<div>\n",
       "<style scoped>\n",
       "    .dataframe tbody tr th:only-of-type {\n",
       "        vertical-align: middle;\n",
       "    }\n",
       "\n",
       "    .dataframe tbody tr th {\n",
       "        vertical-align: top;\n",
       "    }\n",
       "\n",
       "    .dataframe thead th {\n",
       "        text-align: right;\n",
       "    }\n",
       "</style>\n",
       "<table border=\"1\" class=\"dataframe\">\n",
       "  <thead>\n",
       "    <tr style=\"text-align: right;\">\n",
       "      <th></th>\n",
       "      <th>PassengerId</th>\n",
       "      <th>Pclass</th>\n",
       "      <th>Name</th>\n",
       "      <th>Sex</th>\n",
       "      <th>Age</th>\n",
       "      <th>SibSp</th>\n",
       "      <th>Parch</th>\n",
       "      <th>Ticket</th>\n",
       "      <th>Fare</th>\n",
       "      <th>Cabin</th>\n",
       "      <th>Embarked</th>\n",
       "    </tr>\n",
       "  </thead>\n",
       "  <tbody>\n",
       "    <tr>\n",
       "      <th>0</th>\n",
       "      <td>892</td>\n",
       "      <td>3</td>\n",
       "      <td>Kelly, Mr. James</td>\n",
       "      <td>male</td>\n",
       "      <td>34.5</td>\n",
       "      <td>0</td>\n",
       "      <td>0</td>\n",
       "      <td>330911</td>\n",
       "      <td>7.8292</td>\n",
       "      <td>NaN</td>\n",
       "      <td>Q</td>\n",
       "    </tr>\n",
       "    <tr>\n",
       "      <th>1</th>\n",
       "      <td>893</td>\n",
       "      <td>3</td>\n",
       "      <td>Wilkes, Mrs. James (Ellen Needs)</td>\n",
       "      <td>female</td>\n",
       "      <td>47.0</td>\n",
       "      <td>1</td>\n",
       "      <td>0</td>\n",
       "      <td>363272</td>\n",
       "      <td>7.0000</td>\n",
       "      <td>NaN</td>\n",
       "      <td>S</td>\n",
       "    </tr>\n",
       "    <tr>\n",
       "      <th>2</th>\n",
       "      <td>894</td>\n",
       "      <td>2</td>\n",
       "      <td>Myles, Mr. Thomas Francis</td>\n",
       "      <td>male</td>\n",
       "      <td>62.0</td>\n",
       "      <td>0</td>\n",
       "      <td>0</td>\n",
       "      <td>240276</td>\n",
       "      <td>9.6875</td>\n",
       "      <td>NaN</td>\n",
       "      <td>Q</td>\n",
       "    </tr>\n",
       "    <tr>\n",
       "      <th>3</th>\n",
       "      <td>895</td>\n",
       "      <td>3</td>\n",
       "      <td>Wirz, Mr. Albert</td>\n",
       "      <td>male</td>\n",
       "      <td>27.0</td>\n",
       "      <td>0</td>\n",
       "      <td>0</td>\n",
       "      <td>315154</td>\n",
       "      <td>8.6625</td>\n",
       "      <td>NaN</td>\n",
       "      <td>S</td>\n",
       "    </tr>\n",
       "    <tr>\n",
       "      <th>4</th>\n",
       "      <td>896</td>\n",
       "      <td>3</td>\n",
       "      <td>Hirvonen, Mrs. Alexander (Helga E Lindqvist)</td>\n",
       "      <td>female</td>\n",
       "      <td>22.0</td>\n",
       "      <td>1</td>\n",
       "      <td>1</td>\n",
       "      <td>3101298</td>\n",
       "      <td>12.2875</td>\n",
       "      <td>NaN</td>\n",
       "      <td>S</td>\n",
       "    </tr>\n",
       "  </tbody>\n",
       "</table>\n",
       "</div>"
      ],
      "text/plain": [
       "   PassengerId  Pclass                                          Name     Sex  \\\n",
       "0          892       3                              Kelly, Mr. James    male   \n",
       "1          893       3              Wilkes, Mrs. James (Ellen Needs)  female   \n",
       "2          894       2                     Myles, Mr. Thomas Francis    male   \n",
       "3          895       3                              Wirz, Mr. Albert    male   \n",
       "4          896       3  Hirvonen, Mrs. Alexander (Helga E Lindqvist)  female   \n",
       "\n",
       "    Age  SibSp  Parch   Ticket     Fare Cabin Embarked  \n",
       "0  34.5      0      0   330911   7.8292   NaN        Q  \n",
       "1  47.0      1      0   363272   7.0000   NaN        S  \n",
       "2  62.0      0      0   240276   9.6875   NaN        Q  \n",
       "3  27.0      0      0   315154   8.6625   NaN        S  \n",
       "4  22.0      1      1  3101298  12.2875   NaN        S  "
      ]
     },
     "execution_count": 5,
     "metadata": {},
     "output_type": "execute_result"
    }
   ],
   "source": [
    "X_test.head()"
   ]
  },
  {
   "cell_type": "code",
   "execution_count": 6,
   "id": "a0ef8c4d",
   "metadata": {
    "execution": {
     "iopub.execute_input": "2024-12-09T04:45:11.056866Z",
     "iopub.status.busy": "2024-12-09T04:45:11.056490Z",
     "iopub.status.idle": "2024-12-09T04:45:11.087655Z",
     "shell.execute_reply": "2024-12-09T04:45:11.086071Z"
    },
    "papermill": {
     "duration": 0.040027,
     "end_time": "2024-12-09T04:45:11.090011",
     "exception": false,
     "start_time": "2024-12-09T04:45:11.049984",
     "status": "completed"
    },
    "tags": []
   },
   "outputs": [
    {
     "name": "stdout",
     "output_type": "stream",
     "text": [
      "<class 'pandas.core.frame.DataFrame'>\n",
      "RangeIndex: 891 entries, 0 to 890\n",
      "Data columns (total 12 columns):\n",
      " #   Column       Non-Null Count  Dtype  \n",
      "---  ------       --------------  -----  \n",
      " 0   PassengerId  891 non-null    int64  \n",
      " 1   Survived     891 non-null    int64  \n",
      " 2   Pclass       891 non-null    int64  \n",
      " 3   Name         891 non-null    object \n",
      " 4   Sex          891 non-null    object \n",
      " 5   Age          714 non-null    float64\n",
      " 6   SibSp        891 non-null    int64  \n",
      " 7   Parch        891 non-null    int64  \n",
      " 8   Ticket       891 non-null    object \n",
      " 9   Fare         891 non-null    float64\n",
      " 10  Cabin        204 non-null    object \n",
      " 11  Embarked     889 non-null    object \n",
      "dtypes: float64(2), int64(5), object(5)\n",
      "memory usage: 83.7+ KB\n"
     ]
    }
   ],
   "source": [
    "df_train.info()"
   ]
  },
  {
   "cell_type": "code",
   "execution_count": 7,
   "id": "feb6e998",
   "metadata": {
    "execution": {
     "iopub.execute_input": "2024-12-09T04:45:11.101812Z",
     "iopub.status.busy": "2024-12-09T04:45:11.101419Z",
     "iopub.status.idle": "2024-12-09T04:45:11.114798Z",
     "shell.execute_reply": "2024-12-09T04:45:11.113337Z"
    },
    "papermill": {
     "duration": 0.022065,
     "end_time": "2024-12-09T04:45:11.117210",
     "exception": false,
     "start_time": "2024-12-09T04:45:11.095145",
     "status": "completed"
    },
    "tags": []
   },
   "outputs": [
    {
     "name": "stdout",
     "output_type": "stream",
     "text": [
      "<class 'pandas.core.frame.DataFrame'>\n",
      "RangeIndex: 418 entries, 0 to 417\n",
      "Data columns (total 11 columns):\n",
      " #   Column       Non-Null Count  Dtype  \n",
      "---  ------       --------------  -----  \n",
      " 0   PassengerId  418 non-null    int64  \n",
      " 1   Pclass       418 non-null    int64  \n",
      " 2   Name         418 non-null    object \n",
      " 3   Sex          418 non-null    object \n",
      " 4   Age          332 non-null    float64\n",
      " 5   SibSp        418 non-null    int64  \n",
      " 6   Parch        418 non-null    int64  \n",
      " 7   Ticket       418 non-null    object \n",
      " 8   Fare         417 non-null    float64\n",
      " 9   Cabin        91 non-null     object \n",
      " 10  Embarked     418 non-null    object \n",
      "dtypes: float64(2), int64(4), object(5)\n",
      "memory usage: 36.0+ KB\n"
     ]
    }
   ],
   "source": [
    "X_test.info()"
   ]
  },
  {
   "cell_type": "code",
   "execution_count": 8,
   "id": "a7c8acaf",
   "metadata": {
    "execution": {
     "iopub.execute_input": "2024-12-09T04:45:11.129715Z",
     "iopub.status.busy": "2024-12-09T04:45:11.128965Z",
     "iopub.status.idle": "2024-12-09T04:45:11.138450Z",
     "shell.execute_reply": "2024-12-09T04:45:11.137413Z"
    },
    "papermill": {
     "duration": 0.017986,
     "end_time": "2024-12-09T04:45:11.140495",
     "exception": false,
     "start_time": "2024-12-09T04:45:11.122509",
     "status": "completed"
    },
    "tags": []
   },
   "outputs": [
    {
     "data": {
      "text/html": [
       "<div>\n",
       "<style scoped>\n",
       "    .dataframe tbody tr th:only-of-type {\n",
       "        vertical-align: middle;\n",
       "    }\n",
       "\n",
       "    .dataframe tbody tr th {\n",
       "        vertical-align: top;\n",
       "    }\n",
       "\n",
       "    .dataframe thead th {\n",
       "        text-align: right;\n",
       "    }\n",
       "</style>\n",
       "<table border=\"1\" class=\"dataframe\">\n",
       "  <thead>\n",
       "    <tr style=\"text-align: right;\">\n",
       "      <th></th>\n",
       "      <th>PassengerId</th>\n",
       "      <th>Survived</th>\n",
       "    </tr>\n",
       "  </thead>\n",
       "  <tbody>\n",
       "    <tr>\n",
       "      <th>0</th>\n",
       "      <td>892</td>\n",
       "      <td>0</td>\n",
       "    </tr>\n",
       "    <tr>\n",
       "      <th>1</th>\n",
       "      <td>893</td>\n",
       "      <td>1</td>\n",
       "    </tr>\n",
       "    <tr>\n",
       "      <th>2</th>\n",
       "      <td>894</td>\n",
       "      <td>0</td>\n",
       "    </tr>\n",
       "    <tr>\n",
       "      <th>3</th>\n",
       "      <td>895</td>\n",
       "      <td>0</td>\n",
       "    </tr>\n",
       "    <tr>\n",
       "      <th>4</th>\n",
       "      <td>896</td>\n",
       "      <td>1</td>\n",
       "    </tr>\n",
       "  </tbody>\n",
       "</table>\n",
       "</div>"
      ],
      "text/plain": [
       "   PassengerId  Survived\n",
       "0          892         0\n",
       "1          893         1\n",
       "2          894         0\n",
       "3          895         0\n",
       "4          896         1"
      ]
     },
     "execution_count": 8,
     "metadata": {},
     "output_type": "execute_result"
    }
   ],
   "source": [
    "Y_test.head()"
   ]
  },
  {
   "cell_type": "code",
   "execution_count": 9,
   "id": "567211d4",
   "metadata": {
    "execution": {
     "iopub.execute_input": "2024-12-09T04:45:11.152600Z",
     "iopub.status.busy": "2024-12-09T04:45:11.152187Z",
     "iopub.status.idle": "2024-12-09T04:45:11.162781Z",
     "shell.execute_reply": "2024-12-09T04:45:11.161677Z"
    },
    "papermill": {
     "duration": 0.01907,
     "end_time": "2024-12-09T04:45:11.164831",
     "exception": false,
     "start_time": "2024-12-09T04:45:11.145761",
     "status": "completed"
    },
    "tags": []
   },
   "outputs": [
    {
     "name": "stdout",
     "output_type": "stream",
     "text": [
      "<class 'pandas.core.frame.DataFrame'>\n",
      "RangeIndex: 418 entries, 0 to 417\n",
      "Data columns (total 2 columns):\n",
      " #   Column       Non-Null Count  Dtype\n",
      "---  ------       --------------  -----\n",
      " 0   PassengerId  418 non-null    int64\n",
      " 1   Survived     418 non-null    int64\n",
      "dtypes: int64(2)\n",
      "memory usage: 6.7 KB\n"
     ]
    }
   ],
   "source": [
    "Y_test.info()"
   ]
  },
  {
   "cell_type": "code",
   "execution_count": 10,
   "id": "c7bc737b",
   "metadata": {
    "execution": {
     "iopub.execute_input": "2024-12-09T04:45:11.176989Z",
     "iopub.status.busy": "2024-12-09T04:45:11.176618Z",
     "iopub.status.idle": "2024-12-09T04:45:11.189102Z",
     "shell.execute_reply": "2024-12-09T04:45:11.187443Z"
    },
    "papermill": {
     "duration": 0.021258,
     "end_time": "2024-12-09T04:45:11.191433",
     "exception": false,
     "start_time": "2024-12-09T04:45:11.170175",
     "status": "completed"
    },
    "tags": []
   },
   "outputs": [],
   "source": [
    "X_test_passenger_id = X_test[[\"PassengerId\"]]\n",
    "df_train = df_train.drop(['PassengerId', 'Name', 'Ticket', 'Cabin'], axis=1)\n",
    "X_test = X_test.drop(['PassengerId', 'Name', 'Ticket', 'Cabin'], axis=1)\n",
    "Y_test = Y_test.drop(['PassengerId'], axis=1)"
   ]
  },
  {
   "cell_type": "code",
   "execution_count": 11,
   "id": "cc03e31b",
   "metadata": {
    "execution": {
     "iopub.execute_input": "2024-12-09T04:45:11.203912Z",
     "iopub.status.busy": "2024-12-09T04:45:11.203492Z",
     "iopub.status.idle": "2024-12-09T04:45:11.217955Z",
     "shell.execute_reply": "2024-12-09T04:45:11.216657Z"
    },
    "papermill": {
     "duration": 0.023611,
     "end_time": "2024-12-09T04:45:11.220564",
     "exception": false,
     "start_time": "2024-12-09T04:45:11.196953",
     "status": "completed"
    },
    "tags": []
   },
   "outputs": [],
   "source": [
    "df_train = pd.get_dummies(df_train, columns=['Sex', 'Embarked'], drop_first=True)\n",
    "X_test = pd.get_dummies(X_test, columns=['Sex', 'Embarked'], drop_first=True)"
   ]
  },
  {
   "cell_type": "code",
   "execution_count": 12,
   "id": "9591bc19",
   "metadata": {
    "execution": {
     "iopub.execute_input": "2024-12-09T04:45:11.233955Z",
     "iopub.status.busy": "2024-12-09T04:45:11.233555Z",
     "iopub.status.idle": "2024-12-09T04:45:11.240107Z",
     "shell.execute_reply": "2024-12-09T04:45:11.238823Z"
    },
    "papermill": {
     "duration": 0.01609,
     "end_time": "2024-12-09T04:45:11.242269",
     "exception": false,
     "start_time": "2024-12-09T04:45:11.226179",
     "status": "completed"
    },
    "tags": []
   },
   "outputs": [],
   "source": [
    "Y_train = df_train['Survived']\n",
    "X_train = df_train.drop(['Survived'], axis=1)"
   ]
  },
  {
   "cell_type": "code",
   "execution_count": 13,
   "id": "820fc9b9",
   "metadata": {
    "execution": {
     "iopub.execute_input": "2024-12-09T04:45:11.254778Z",
     "iopub.status.busy": "2024-12-09T04:45:11.254398Z",
     "iopub.status.idle": "2024-12-09T04:45:11.273768Z",
     "shell.execute_reply": "2024-12-09T04:45:11.272327Z"
    },
    "papermill": {
     "duration": 0.028401,
     "end_time": "2024-12-09T04:45:11.276136",
     "exception": false,
     "start_time": "2024-12-09T04:45:11.247735",
     "status": "completed"
    },
    "tags": []
   },
   "outputs": [
    {
     "name": "stdout",
     "output_type": "stream",
     "text": [
      "     Pclass   Age  SibSp  Parch     Fare  Sex_male  Embarked_Q  Embarked_S\n",
      "33        2  66.0      0      0  10.5000      True       False        True\n",
      "54        1  65.0      0      1  61.9792      True       False       False\n",
      "96        1  71.0      0      0  34.6542      True       False       False\n",
      "116       3  70.5      0      0   7.7500      True        True       False\n",
      "280       3  65.0      0      0   7.7500      True        True       False\n",
      "456       1  65.0      0      0  26.5500      True       False        True\n",
      "493       1  71.0      0      0  49.5042      True       False       False\n",
      "630       1  80.0      0      0  30.0000      True       False        True\n",
      "672       2  70.0      0      0  10.5000      True       False        True\n",
      "745       1  70.0      1      1  71.0000      True       False        True\n",
      "851       3  74.0      0      0   7.7750      True       False        True\n"
     ]
    }
   ],
   "source": [
    "Q1 = X_train['Age'].quantile(0.25)\n",
    "Q3 = X_train['Age'].quantile(0.75)\n",
    "IQR = Q3 - Q1\n",
    "\n",
    "lower_bound = Q1 - 1.5 * IQR\n",
    "upper_bound = Q3 + 1.5 * IQR\n",
    "\n",
    "outliers = X_train[(X_train['Age'] < lower_bound) | (X_train['Age'] > upper_bound)]\n",
    "print(outliers)"
   ]
  },
  {
   "cell_type": "code",
   "execution_count": 14,
   "id": "dd56fec4",
   "metadata": {
    "execution": {
     "iopub.execute_input": "2024-12-09T04:45:11.289025Z",
     "iopub.status.busy": "2024-12-09T04:45:11.288602Z",
     "iopub.status.idle": "2024-12-09T04:45:11.296879Z",
     "shell.execute_reply": "2024-12-09T04:45:11.295940Z"
    },
    "papermill": {
     "duration": 0.017315,
     "end_time": "2024-12-09T04:45:11.299062",
     "exception": false,
     "start_time": "2024-12-09T04:45:11.281747",
     "status": "completed"
    },
    "tags": []
   },
   "outputs": [],
   "source": [
    "X_train['Age'] = X_train['Age'].fillna(X_train['Age'].mean())\n",
    "X_test['Age'] = X_test['Age'].fillna(X_test['Age'].mean())\n",
    "X_test['Fare'] = X_test['Fare'].fillna(X_test['Fare'].mean())"
   ]
  },
  {
   "cell_type": "code",
   "execution_count": 15,
   "id": "c418741b",
   "metadata": {
    "execution": {
     "iopub.execute_input": "2024-12-09T04:45:11.312595Z",
     "iopub.status.busy": "2024-12-09T04:45:11.312175Z",
     "iopub.status.idle": "2024-12-09T04:45:11.331258Z",
     "shell.execute_reply": "2024-12-09T04:45:11.330157Z"
    },
    "papermill": {
     "duration": 0.028588,
     "end_time": "2024-12-09T04:45:11.333685",
     "exception": false,
     "start_time": "2024-12-09T04:45:11.305097",
     "status": "completed"
    },
    "tags": []
   },
   "outputs": [
    {
     "data": {
      "text/plain": [
       "0.7751196172248804"
      ]
     },
     "execution_count": 15,
     "metadata": {},
     "output_type": "execute_result"
    }
   ],
   "source": [
    "dtClass = DecisionTreeClassifier()\n",
    "model = dtClass.fit(X_train, Y_train)\n",
    "model.score(X_test, Y_test)"
   ]
  },
  {
   "cell_type": "code",
   "execution_count": 16,
   "id": "26eb2b8f",
   "metadata": {
    "execution": {
     "iopub.execute_input": "2024-12-09T04:45:11.347146Z",
     "iopub.status.busy": "2024-12-09T04:45:11.346103Z",
     "iopub.status.idle": "2024-12-09T04:45:11.581211Z",
     "shell.execute_reply": "2024-12-09T04:45:11.579889Z"
    },
    "papermill": {
     "duration": 0.244353,
     "end_time": "2024-12-09T04:45:11.583629",
     "exception": false,
     "start_time": "2024-12-09T04:45:11.339276",
     "status": "completed"
    },
    "tags": []
   },
   "outputs": [
    {
     "data": {
      "text/plain": [
       "0.8014354066985646"
      ]
     },
     "execution_count": 16,
     "metadata": {},
     "output_type": "execute_result"
    }
   ],
   "source": [
    "rfClass= RandomForestClassifier()\n",
    "model = rfClass.fit(X_train,Y_train)\n",
    "model.score(X_test,Y_test)"
   ]
  },
  {
   "cell_type": "code",
   "execution_count": 17,
   "id": "cf870297",
   "metadata": {
    "execution": {
     "iopub.execute_input": "2024-12-09T04:45:11.596866Z",
     "iopub.status.busy": "2024-12-09T04:45:11.596169Z",
     "iopub.status.idle": "2024-12-09T04:45:11.720870Z",
     "shell.execute_reply": "2024-12-09T04:45:11.719988Z"
    },
    "papermill": {
     "duration": 0.133942,
     "end_time": "2024-12-09T04:45:11.723367",
     "exception": false,
     "start_time": "2024-12-09T04:45:11.589425",
     "status": "completed"
    },
    "tags": []
   },
   "outputs": [
    {
     "data": {
      "text/plain": [
       "0.8205741626794258"
      ]
     },
     "execution_count": 17,
     "metadata": {},
     "output_type": "execute_result"
    }
   ],
   "source": [
    "xgbClass = XGBClassifier()\n",
    "model = xgbClass.fit(X_train,Y_train)\n",
    "model.score(X_test,Y_test)"
   ]
  },
  {
   "cell_type": "code",
   "execution_count": 18,
   "id": "52602852",
   "metadata": {
    "execution": {
     "iopub.execute_input": "2024-12-09T04:45:11.737832Z",
     "iopub.status.busy": "2024-12-09T04:45:11.737447Z",
     "iopub.status.idle": "2024-12-09T04:45:11.889671Z",
     "shell.execute_reply": "2024-12-09T04:45:11.888652Z"
    },
    "papermill": {
     "duration": 0.161361,
     "end_time": "2024-12-09T04:45:11.891948",
     "exception": false,
     "start_time": "2024-12-09T04:45:11.730587",
     "status": "completed"
    },
    "tags": []
   },
   "outputs": [
    {
     "data": {
      "text/plain": [
       "0.8588516746411483"
      ]
     },
     "execution_count": 18,
     "metadata": {},
     "output_type": "execute_result"
    }
   ],
   "source": [
    "gbClass= GradientBoostingClassifier()\n",
    "model = gbClass.fit(X_train,Y_train)\n",
    "model.score(X_test,Y_test)"
   ]
  },
  {
   "cell_type": "code",
   "execution_count": 19,
   "id": "7eef746e",
   "metadata": {
    "execution": {
     "iopub.execute_input": "2024-12-09T04:45:11.905202Z",
     "iopub.status.busy": "2024-12-09T04:45:11.904863Z",
     "iopub.status.idle": "2024-12-09T04:45:11.912865Z",
     "shell.execute_reply": "2024-12-09T04:45:11.911992Z"
    },
    "papermill": {
     "duration": 0.017091,
     "end_time": "2024-12-09T04:45:11.914962",
     "exception": false,
     "start_time": "2024-12-09T04:45:11.897871",
     "status": "completed"
    },
    "tags": []
   },
   "outputs": [],
   "source": [
    "predictions = model.predict(X_test)"
   ]
  },
  {
   "cell_type": "code",
   "execution_count": 20,
   "id": "c088fd9e",
   "metadata": {
    "execution": {
     "iopub.execute_input": "2024-12-09T04:45:11.927980Z",
     "iopub.status.busy": "2024-12-09T04:45:11.927637Z",
     "iopub.status.idle": "2024-12-09T04:45:11.936401Z",
     "shell.execute_reply": "2024-12-09T04:45:11.935324Z"
    },
    "papermill": {
     "duration": 0.017908,
     "end_time": "2024-12-09T04:45:11.938652",
     "exception": false,
     "start_time": "2024-12-09T04:45:11.920744",
     "status": "completed"
    },
    "tags": []
   },
   "outputs": [],
   "source": [
    "output = pd.DataFrame({'PassengerId': X_test_passenger_id.PassengerId, 'Survived': predictions})\n",
    "output.to_csv('submission.csv', index=False)"
   ]
  }
 ],
 "metadata": {
  "kaggle": {
   "accelerator": "none",
   "dataSources": [
    {
     "databundleVersionId": 26502,
     "sourceId": 3136,
     "sourceType": "competition"
    }
   ],
   "dockerImageVersionId": 30804,
   "isGpuEnabled": false,
   "isInternetEnabled": true,
   "language": "python",
   "sourceType": "notebook"
  },
  "kernelspec": {
   "display_name": "Python 3",
   "language": "python",
   "name": "python3"
  },
  "language_info": {
   "codemirror_mode": {
    "name": "ipython",
    "version": 3
   },
   "file_extension": ".py",
   "mimetype": "text/x-python",
   "name": "python",
   "nbconvert_exporter": "python",
   "pygments_lexer": "ipython3",
   "version": "3.10.14"
  },
  "papermill": {
   "default_parameters": {},
   "duration": 7.252225,
   "end_time": "2024-12-09T04:45:12.565190",
   "environment_variables": {},
   "exception": null,
   "input_path": "__notebook__.ipynb",
   "output_path": "__notebook__.ipynb",
   "parameters": {},
   "start_time": "2024-12-09T04:45:05.312965",
   "version": "2.6.0"
  }
 },
 "nbformat": 4,
 "nbformat_minor": 5
}
